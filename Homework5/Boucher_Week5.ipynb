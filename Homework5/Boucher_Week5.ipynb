{
  "nbformat": 4,
  "nbformat_minor": 0,
  "metadata": {
    "colab": {
      "name": "Boucher.Week5.ipynb",
      "provenance": [],
      "collapsed_sections": []
    },
    "kernelspec": {
      "name": "python3",
      "display_name": "Python 3"
    }
  },
  "cells": [
    {
      "cell_type": "markdown",
      "metadata": {
        "id": "rQiEPsgXb2Po"
      },
      "source": [
        "# Week Five: Integration and differentiation\n",
        "\n",
        "To be graded, your notebook must be runnable start to finish. If you can't make an in-notebook test pass, comment it out for to attempt to get partial credit. You should replace the `...` markers with your code. Do not change the names of the pre-defined ALL_CAPS variables and functions. (If you start from scratch, make sure you match the requested function names and requested ALL_CAPS variables). Other that that, you are free to define or make anything you wish. Remember that functions will often be tested with different numbers than the ones you are given."
      ]
    },
    {
      "cell_type": "code",
      "metadata": {
        "id": "itmasquRb2Pq"
      },
      "source": [
        "# EID is your 6+2 UC Electronic ID\n",
        "EID = '800221266'\n",
        "NAME = 'Reese Boucher'"
      ],
      "execution_count": 1,
      "outputs": []
    },
    {
      "cell_type": "code",
      "metadata": {
        "id": "Eo2cEzizb2P0"
      },
      "source": [
        "%matplotlib inline\n",
        "import numpy as np\n",
        "import matplotlib.pyplot as plt"
      ],
      "execution_count": 2,
      "outputs": []
    },
    {
      "cell_type": "markdown",
      "metadata": {
        "id": "v0LiXw0vb2P7"
      },
      "source": [
        "# Problem 1: 2D Trapezoidal rule\n",
        "\n",
        "You can extend the trapezoidal rule to 2D. I'll give you a few hints:\n",
        "\n",
        "The weight matrix is:\n",
        "$$\n",
        "W_{ij} = \\begin{matrix}\n",
        "1 & 2 & 2 & \\cdots & 2 & 2 & 1 \\\\\n",
        "2 & 4 & 4 & \\cdots & 4 & 4 & 2 \\\\\n",
        "2 & 4 & 4 & \\cdots & 4 & 4 & 2 \\\\\n",
        "\\vdots & \\vdots & \\vdots & \\ddots & \\vdots & \\vdots & \\vdots \\\\\n",
        "2 & 4 & 4 & \\cdots & 4 & 4 & 2 \\\\\n",
        "2 & 4 & 4 & \\cdots & 4 & 4 & 2 \\\\\n",
        "1 & 2 & 2 & \\cdots & 2 & 2 & 1\n",
        "\\end{matrix}\n",
        "$$\n",
        "\n",
        "If you use the trick I used in the slides instead of explicitly creating this matrix, you would split the sum into 4 parts. However, it's really quite easy to make the matrix above\n",
        "\n",
        "The \"bin\" width $h$ is joined by the 2nd dimension bin width of $k$, and then the trapezoidal rule integral value is \n",
        "\n",
        "$$\n",
        "I_\\mathrm{tr} = \\frac{1}{4} h k \\sum_i \\sum_j W_{ij} f(x_{i}, y_{j})\n",
        "$$"
      ]
    },
    {
      "cell_type": "markdown",
      "metadata": {
        "id": "MwzwRIhXb2P9"
      },
      "source": [
        "Write a function that takes a 2-parameter function 'f' and integrates it with the given parameters (further explanations are built into the docstring of the function). I'm writing a Numpy-style docstring.\n",
        "\n",
        "See also: <http://mathfaculty.fullerton.edu/mathews/n2003/SimpsonsRule2DMod.html>"
      ]
    },
    {
      "cell_type": "code",
      "metadata": {
        "id": "1-QPBK_Sb2QA"
      },
      "source": [
        "def trap_2d(f, xrange, yrange, xN, yN):\n",
        "    '''\n",
        "    Integrate a 2D function with the trapezoidal rule.\n",
        "    \n",
        "    This takes a 2D function and integrates it over a 2D grid.\n",
        "    This uses the Trapezoidal rule in 2D.\n",
        "    \n",
        "    Parameters\n",
        "    ----------\n",
        "    f : callable\n",
        "        The function to integrate. The function should take an x and y value (possibly arrays).\n",
        "    xrange : (float, float)\n",
        "        The min and max values for x, as an array\n",
        "    yrange : (float, float)\n",
        "        The min and max values for y, as an array\n",
        "    xN : int\n",
        "        The number of evaluations along x\n",
        "    yN : int\n",
        "        The number of evaluations along x\n",
        "\n",
        "    Returns\n",
        "    -------\n",
        "    float\n",
        "        The total integral\n",
        "    \n",
        "    '''\n",
        "    # If these are *not* arrays, convert them into arrays. Otherwise, leave them alone.\n",
        "    # (If we used np.array, we'd needlessly make a copy if it aready was an array)\n",
        "    xrange = np.asarray(xrange)\n",
        "    yrange = np.asarray(yrange)\n",
        "    \n",
        "    # There are N-1 \"bins\"\n",
        "    h = (xrange[1] - xrange[0])/(xN-1)\n",
        "    k = (yrange[1] - yrange[0])/(yN-1)\n",
        "    \n",
        "    \n",
        "    outRow = np.array([1])\n",
        "    outRow = np.append(outRow,np.full(xN-2,2))\n",
        "    outRow = np.append(outRow,1)\n",
        "    inRow  = outRow*2\n",
        "    \n",
        "    xVals = np.arange(xrange[0],xrange[1])\n",
        "    yVals = np.arange(yrange[0],yrange[1])            \n",
        "    \n",
        "    matrix = outRow\n",
        "    i = 0\n",
        "    while i <(yN-2):\n",
        "        matrix = np.concatenate((matrix, inRow))\n",
        "        i+=1\n",
        "    \n",
        "    matrix = np.concatenate((matrix, outRow))\n",
        "    matrix = np.reshape(matrix,(xN,yN))\n",
        "        \n",
        "\n",
        "    area=0\n",
        "    for i in range(xN):\n",
        "        for j in range(yN):\n",
        "            area += 0.25*h*k*matrix[i][j]*f(xVals[i],yVals[j])\n",
        "    return area"
      ],
      "execution_count": 3,
      "outputs": []
    },
    {
      "cell_type": "markdown",
      "metadata": {
        "id": "F_kYL0iGb2QI"
      },
      "source": [
        "Feel free to add more tests, I'm adding the simplest one I can think of:"
      ]
    },
    {
      "cell_type": "code",
      "metadata": {
        "id": "3kAu5BSzb2QJ",
        "outputId": "56841d44-8d4b-4d84-b430-ad4eb99a0fc0",
        "colab": {
          "base_uri": "https://localhost:8080/",
          "height": 34
        }
      },
      "source": [
        "def f(x,y):\n",
        "    return 1\n",
        "print(f(0,0))"
      ],
      "execution_count": 4,
      "outputs": [
        {
          "output_type": "stream",
          "text": [
            "1\n"
          ],
          "name": "stdout"
        }
      ]
    },
    {
      "cell_type": "code",
      "metadata": {
        "id": "x3D6g5zib2QO"
      },
      "source": [
        "area = trap_2d(f, [0, 10], [0, 10], 10, 10)\n",
        "assert np.isclose(area, 100)"
      ],
      "execution_count": 5,
      "outputs": []
    },
    {
      "cell_type": "markdown",
      "metadata": {
        "id": "85eh1H0ub2QS"
      },
      "source": [
        "# Problem 2: MC integration\n",
        "\n",
        "Write a function that performs MC integration of an unknown function of N dimensions. You can use `f(*array)` to call the function with the correct number of arguments (it expands to `f(array[0], array[1], ..., array[N])`). Return **two** values; the estimated integral and the estimated error on the integral."
      ]
    },
    {
      "cell_type": "code",
      "metadata": {
        "id": "gEiSzQnWb2QS"
      },
      "source": [
        "from scipy import integrate\n",
        "def mc_integrate(f, N, samples, ranges):\n",
        "    '''\n",
        "    Integrate an ND function with a set of sampled MC points.\n",
        "    \n",
        "    Parameters\n",
        "    ----------\n",
        "    f : callable\n",
        "        The function to integrate. The function should take N\n",
        "        values (possibly equal length arrays).\n",
        "    N : int\n",
        "        The min and max values for x, as an array\n",
        "    samples : int\n",
        "        The number of samples to integrate over\n",
        "    ranges : array[2, N]\n",
        "        An array with the min and max for each dimension.\n",
        "\n",
        "    Returns\n",
        "    -------\n",
        "    float\n",
        "        The total integral\n",
        "    float\n",
        "        The estimated error = relative error * the total integral.\n",
        "    '''\n",
        "    \n",
        "    ranges = np.asarray(ranges) # Just making sure ranges is an array\n",
        "    \n",
        "    # Hint: You can turn a 1D array, such as arr = array([a, b]) into a 2D array\n",
        "    # with arr[:,np.newaxis] or arr[:,None] or arr.reshape(2,1) or arr.reshape(-1,1)\n",
        "    \n",
        "    # Our definition of ranges matches what you find in Scipy, and is natural to type,\n",
        "    # but is a but less natural to use, for example:\n",
        "    widths = ranges[:,1] + ranges[:,0]\n",
        "    \n",
        "    vals = np.random.rand(2,samples)\n",
        "\n",
        "    I = (ranges[0][1]-ranges[0][0])*(1/N)*np.mean(f(*vals)) + (ranges[1][1]-ranges[1][0])*(1/N)*np.mean(f(*vals))\n",
        "    \n",
        "    #In Notes error for MC Integration defined as analytical solution times inverse root of the number of samples\n",
        "    mcError = integrate.nquad(f,[[ranges[0][0],ranges[0][1]],[ranges[1][0],ranges[1][1]]])[0]*(1/np.sqrt(samples))    \n",
        "\n",
        "\n",
        "    return I, mcError\n",
        "    "
      ],
      "execution_count": 16,
      "outputs": []
    },
    {
      "cell_type": "code",
      "metadata": {
        "id": "QlGpPuSwb2QX"
      },
      "source": [
        "def f(x,y):\n",
        "    return x**24 + y"
      ],
      "execution_count": 17,
      "outputs": []
    },
    {
      "cell_type": "code",
      "metadata": {
        "id": "k_GOSZ94b2Qa"
      },
      "source": [
        "integral, error = mc_integrate(f, 2, 10000, [[0,1],[0,1]])"
      ],
      "execution_count": 18,
      "outputs": []
    },
    {
      "cell_type": "code",
      "metadata": {
        "id": "t18r90T9b2Qc",
        "outputId": "1c1d8c43-5420-41e2-e4c8-f0e6a4281f31",
        "colab": {
          "base_uri": "https://localhost:8080/",
          "height": 34
        }
      },
      "source": [
        "print(integral, error)"
      ],
      "execution_count": 19,
      "outputs": [
        {
          "output_type": "stream",
          "text": [
            "0.5376764432306124 0.005399999999999999\n"
          ],
          "name": "stdout"
        }
      ]
    },
    {
      "cell_type": "markdown",
      "metadata": {
        "id": "RcZHE9Frb2Qe"
      },
      "source": [
        "#### For comparison, we could use NQuad from Scipy:"
      ]
    },
    {
      "cell_type": "code",
      "metadata": {
        "id": "WCXwIrqTb2Qe"
      },
      "source": [
        "from scipy import integrate"
      ],
      "execution_count": 20,
      "outputs": []
    },
    {
      "cell_type": "code",
      "metadata": {
        "id": "5RZJSagLb2Qg",
        "outputId": "cf2bc617-b058-4a2a-9f0f-c1c9e72b42e2",
        "colab": {
          "base_uri": "https://localhost:8080/",
          "height": 34
        }
      },
      "source": [
        "integrate.nquad(f, [[0,1],[0,1]])"
      ],
      "execution_count": 21,
      "outputs": [
        {
          "output_type": "execute_result",
          "data": {
            "text/plain": [
              "(0.5399999999999999, 3.730742877018198e-10)"
            ]
          },
          "metadata": {
            "tags": []
          },
          "execution_count": 21
        }
      ]
    },
    {
      "cell_type": "markdown",
      "metadata": {
        "id": "F_SPfGkbb2Qi"
      },
      "source": [
        "# Problem 3: Second derivatives"
      ]
    },
    {
      "cell_type": "markdown",
      "metadata": {
        "id": "yyqDrzVBb2Qj"
      },
      "source": [
        "Write a function that calculates:\n",
        "\n",
        "$$\n",
        "\\frac{d^2 f(t)}{dt^2} \\Biggr\\rvert_\\mathrm{cd}\n",
        "=\n",
        "\\frac{\n",
        "\\left[\n",
        "f(t + h) - f(t)\n",
        "\\right] - \\left[\n",
        "f(t) - f(t - h)\n",
        "\\right]\n",
        "}{h^2}\n",
        "$$\n",
        "\n",
        "(The notes in class had a typo, fixed here.) Write a nice docstring as well."
      ]
    },
    {
      "cell_type": "code",
      "metadata": {
        "id": "858zFz9Tb2Qj"
      },
      "source": [
        "def d2fdt2(f, t, h):\n",
        "    '''    \n",
        "    Evaluates Second Derivative of function f at point t \n",
        "    \n",
        "    Parameters\n",
        "    ----------\n",
        "    f : callable\n",
        "        The function to differentiate. The function takes one value.\n",
        "    t : float\n",
        "        Position where curvature will be evaluated\n",
        "    h : float\n",
        "        change in t\n",
        "\n",
        "\n",
        "    Returns\n",
        "    -------\n",
        "    float\n",
        "        The second derivative of funtion f evaluated at point t\n",
        "\n",
        "    '''\n",
        "    curvature = ((f(t+h)-f(t)) - (f(t)-f(t-h)))/h**2\n",
        "    return curvature\n"
      ],
      "execution_count": 22,
      "outputs": []
    },
    {
      "cell_type": "markdown",
      "metadata": {
        "id": "izGfNeJJb2Ql"
      },
      "source": [
        "Test your `d2fdt2` function on a function that you know the derivative for."
      ]
    },
    {
      "cell_type": "code",
      "metadata": {
        "id": "MmQzVMCWb2Ql",
        "outputId": "169d397f-c351-480c-d87d-52a4bbad91f6",
        "colab": {
          "base_uri": "https://localhost:8080/",
          "height": 34
        }
      },
      "source": [
        "def f(x):\n",
        "  return x**3\n",
        "\n",
        "print(d2fdt2(f,3,1))"
      ],
      "execution_count": 23,
      "outputs": [
        {
          "output_type": "stream",
          "text": [
            "18.0\n"
          ],
          "name": "stdout"
        }
      ]
    },
    {
      "cell_type": "code",
      "metadata": {
        "id": "79T2LFJmaGVP"
      },
      "source": [
        ""
      ],
      "execution_count": 23,
      "outputs": []
    }
  ]
}